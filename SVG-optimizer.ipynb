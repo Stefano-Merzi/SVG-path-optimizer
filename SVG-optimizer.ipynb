{
 "cells": [
  {
   "cell_type": "code",
   "execution_count": 5,
   "metadata": {},
   "outputs": [],
   "source": [
    "import os\n",
    "import pandas as pd\n",
    "import numpy as np\n",
    "import re"
   ]
  },
  {
   "cell_type": "code",
   "execution_count": 6,
   "metadata": {},
   "outputs": [],
   "source": [
    "file = open(\"C:/Users/merzi/Desktop/test-svg/test.svg\", \"r\")\n",
    "text = file.read()"
   ]
  },
  {
   "cell_type": "code",
   "execution_count": 38,
   "metadata": {},
   "outputs": [
    {
     "name": "stdout",
     "output_type": "stream",
     "text": [
      "[1116, 1203, 2111, 2198, 3356] [2097, 2104, 3347, 4162, 4169]\n"
     ]
    }
   ],
   "source": [
    "# locate and divide groups / layers\n",
    "\n",
    "# group start and end string\n",
    "g_start_str = \"<g\\n\"\n",
    "g_end_str = \"</g>\\n\"\n",
    "\n",
    "# locate position for group start and end\n",
    "g_start = [x.start() for x in re.finditer(g_start_str, text)]\n",
    "g_end = [x.start() for x in re.finditer(g_end_str, text)]\n",
    "print(g_start, g_end)\n",
    "\n"
   ]
  },
  {
   "cell_type": "code",
   "execution_count": null,
   "metadata": {},
   "outputs": [],
   "source": []
  }
 ],
 "metadata": {
  "kernelspec": {
   "display_name": ".venv",
   "language": "python",
   "name": "python3"
  },
  "language_info": {
   "codemirror_mode": {
    "name": "ipython",
    "version": 3
   },
   "file_extension": ".py",
   "mimetype": "text/x-python",
   "name": "python",
   "nbconvert_exporter": "python",
   "pygments_lexer": "ipython3",
   "version": "3.12.7"
  }
 },
 "nbformat": 4,
 "nbformat_minor": 2
}
