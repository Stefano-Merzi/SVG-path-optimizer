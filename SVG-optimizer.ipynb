{
 "cells": [
  {
   "cell_type": "code",
   "execution_count": 3,
   "metadata": {},
   "outputs": [],
   "source": [
    "import os\n",
    "import pandas as pd\n",
    "import numpy as np\n",
    "import re"
   ]
  },
  {
   "cell_type": "code",
   "execution_count": 16,
   "metadata": {},
   "outputs": [],
   "source": [
    "file = open(\"C:/Users/merzi/Desktop/test-svg/test.svg\", \"r\")\n",
    "text = file.read()"
   ]
  },
  {
   "cell_type": "code",
   "execution_count": 45,
   "metadata": {},
   "outputs": [
    {
     "name": "stdout",
     "output_type": "stream",
     "text": [
      "\n",
      "     inkscape:label=\"Layer 1\"\n",
      "     inkscape:groupmode=\"layer\"\n",
      "     id=\"layer1\">\n",
      "    <path\n",
      "       id=\"path1\"\n",
      "       style=\"fill:#7b7b7b;fill-rule:evenodd;stroke-width:0.25;stroke-linecap:round;stroke-linejoin:round\"\n",
      "       d=\"M 65.127133,56.891209 A 12.543942,16.851961 0 0 1 52.583191,73.74317 12.543942,16.851961 0 0 1 40.039248,56.891209 12.543942,16.851961 0 0 1 52.583191,40.039248 12.543942,16.851961 0 0 1 65.127133,56.891209 Z\" />\n",
      "    <path\n",
      "       id=\"path2\"\n",
      "       style=\"fill:#7b7b7b;fill-rule:evenodd;stroke-width:0.25;stroke-linecap:round;stroke-linejoin:round\"\n",
      "       d=\"M 85.146751,212.8669 A 16.978668,28.128838 0 0 1 68.168083,240.99574 16.978668,28.128838 0 0 1 51.189415,212.8669 16.978668,28.128838 0 0 1 68.168083,184.73806 16.978668,28.128838 0 0 1 85.146751,212.8669 Z\" />\n",
      "    <path\n",
      "       id=\"path3\"\n",
      "       style=\"fill:#7b7b7b;fill-rule:evenodd;stroke-width:0.25;stroke-linecap:round;stroke-linejoin:round\"\n",
      "       d=\"M 117.0768,126.07294 A 19.386093,28.508959 0 0 1 97.690704,154.5819 19.386093,28.508959 0 0 1 78.304611,126.07294 19.386093,28.508959 0 0 1 97.690704,97.563978 19.386093,28.508959 0 0 1 117.0768,126.07294 Z\" />\n",
      "  \n"
     ]
    }
   ],
   "source": [
    "# locate and divide groups / layers\n",
    "\n",
    "sub1 = \"<g\"\n",
    "sub2 = \"</g>\"\n",
    "\n",
    "res = ''.join(text.split(sub1)[1].split(sub2)[0])\n",
    "print(res)"
   ]
  },
  {
   "cell_type": "code",
   "execution_count": null,
   "metadata": {},
   "outputs": [],
   "source": []
  },
  {
   "cell_type": "code",
   "execution_count": null,
   "metadata": {},
   "outputs": [],
   "source": []
  }
 ],
 "metadata": {
  "kernelspec": {
   "display_name": ".venv",
   "language": "python",
   "name": "python3"
  },
  "language_info": {
   "codemirror_mode": {
    "name": "ipython",
    "version": 3
   },
   "file_extension": ".py",
   "mimetype": "text/x-python",
   "name": "python",
   "nbconvert_exporter": "python",
   "pygments_lexer": "ipython3",
   "version": "3.12.7"
  }
 },
 "nbformat": 4,
 "nbformat_minor": 2
}
