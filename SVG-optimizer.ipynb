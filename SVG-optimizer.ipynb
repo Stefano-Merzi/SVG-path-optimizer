{
 "cells": [
  {
   "cell_type": "code",
   "execution_count": 31,
   "metadata": {},
   "outputs": [],
   "source": [
    "import os\n",
    "import pandas as pd\n",
    "import numpy as np\n",
    "import re"
   ]
  },
  {
   "cell_type": "code",
   "execution_count": 32,
   "metadata": {},
   "outputs": [],
   "source": [
    "file = open(\"C:/Users/merzi/Desktop/test-svg/test.svg\", \"r\")\n",
    "text = file.read()"
   ]
  },
  {
   "cell_type": "code",
   "execution_count": 47,
   "metadata": {},
   "outputs": [],
   "source": [
    "# locate and divide groups / layers\n",
    "\n",
    "# group start and end string\n",
    "g_start_str = \"<g\\n\"\n",
    "g_end_str = \"</g>\\n\"\n",
    "\n",
    "# locate position for group start and end\n",
    "g_start = np.array([x.start() for x in re.finditer(g_start_str, text)])\n",
    "g_end = np.array([x.start()+len(g_end_str) for x in re.finditer(g_end_str, text)])"
   ]
  },
  {
   "cell_type": "code",
   "execution_count": 48,
   "metadata": {},
   "outputs": [
    {
     "data": {
      "text/html": [
       "<div>\n",
       "<style scoped>\n",
       "    .dataframe tbody tr th:only-of-type {\n",
       "        vertical-align: middle;\n",
       "    }\n",
       "\n",
       "    .dataframe tbody tr th {\n",
       "        vertical-align: top;\n",
       "    }\n",
       "\n",
       "    .dataframe thead th {\n",
       "        text-align: right;\n",
       "    }\n",
       "</style>\n",
       "<table border=\"1\" class=\"dataframe\">\n",
       "  <thead>\n",
       "    <tr style=\"text-align: right;\">\n",
       "      <th></th>\n",
       "      <th>start</th>\n",
       "      <th>end</th>\n",
       "      <th>level</th>\n",
       "      <th>text</th>\n",
       "    </tr>\n",
       "  </thead>\n",
       "  <tbody>\n",
       "    <tr>\n",
       "      <th>0</th>\n",
       "      <td>1203</td>\n",
       "      <td>2102</td>\n",
       "      <td>1</td>\n",
       "      <td></td>\n",
       "    </tr>\n",
       "    <tr>\n",
       "      <th>1</th>\n",
       "      <td>1116</td>\n",
       "      <td>2109</td>\n",
       "      <td>0</td>\n",
       "      <td></td>\n",
       "    </tr>\n",
       "    <tr>\n",
       "      <th>2</th>\n",
       "      <td>2198</td>\n",
       "      <td>3352</td>\n",
       "      <td>1</td>\n",
       "      <td></td>\n",
       "    </tr>\n",
       "    <tr>\n",
       "      <th>3</th>\n",
       "      <td>3356</td>\n",
       "      <td>4167</td>\n",
       "      <td>1</td>\n",
       "      <td></td>\n",
       "    </tr>\n",
       "    <tr>\n",
       "      <th>4</th>\n",
       "      <td>2111</td>\n",
       "      <td>4174</td>\n",
       "      <td>0</td>\n",
       "      <td></td>\n",
       "    </tr>\n",
       "  </tbody>\n",
       "</table>\n",
       "</div>"
      ],
      "text/plain": [
       "   start   end  level text\n",
       "0   1203  2102      1     \n",
       "1   1116  2109      0     \n",
       "2   2198  3352      1     \n",
       "3   3356  4167      1     \n",
       "4   2111  4174      0     "
      ]
     },
     "execution_count": 48,
     "metadata": {},
     "output_type": "execute_result"
    }
   ],
   "source": [
    "g_df = pd.DataFrame(columns=[\"start\", \"end\", \"level\",\"text\"])\n",
    "\n",
    "g_start_temp = g_start\n",
    "# match each group end point with its own group start poing\n",
    "for i, end in enumerate(g_end):\n",
    "    index = len(g_start_temp)-np.argmax((g_start_temp<end)[::-1])-1     # find index of the matching group start point\n",
    "    start = g_start_temp[index]\n",
    "    g_df.loc[i] = [start, end, index, \"\"]      # create df entry with start point, end point and level (depth)\n",
    "    g_start_temp = np.delete(g_start_temp, index)                             # remove start point from its array, for the next iteration\n",
    "\n",
    "# longer explanation\n",
    "    # for i in g_end:             # take the fist group end\n",
    "    # a = g_start<i               # check if each start point is before the end\n",
    "    # b = a[::-1]                 # reverse array with list slicing\n",
    "    # c = np.argmax(b)            # find the first occurrence of TRUE (first start point lower than end point)\n",
    "    # d = len(g_start)-c          # subtract array length to obtain the position in the original array\n",
    "\n",
    "g_df"
   ]
  },
  {
   "cell_type": "code",
   "execution_count": null,
   "metadata": {},
   "outputs": [],
   "source": [
    "text_temp = text\n",
    "\n",
    "# extra text for svg file, before first group start position and after last group end position\n",
    "start_text = text_temp[:min(g_start)]\n",
    "end_text = text_temp[max(g_end):]\n"
   ]
  }
 ],
 "metadata": {
  "kernelspec": {
   "display_name": ".venv",
   "language": "python",
   "name": "python3"
  },
  "language_info": {
   "codemirror_mode": {
    "name": "ipython",
    "version": 3
   },
   "file_extension": ".py",
   "mimetype": "text/x-python",
   "name": "python",
   "nbconvert_exporter": "python",
   "pygments_lexer": "ipython3",
   "version": "3.12.7"
  }
 },
 "nbformat": 4,
 "nbformat_minor": 2
}
