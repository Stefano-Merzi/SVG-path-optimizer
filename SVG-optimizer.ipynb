{
 "cells": [
  {
   "cell_type": "code",
   "execution_count": 1,
   "metadata": {},
   "outputs": [],
   "source": [
    "import os\n",
    "import pandas as pd\n",
    "import numpy as np\n",
    "import re"
   ]
  },
  {
   "cell_type": "code",
   "execution_count": 2,
   "metadata": {},
   "outputs": [],
   "source": [
    "file = open(\"C:/Users/merzi/Desktop/test-svg/test.svg\", \"r\")\n",
    "text = file.read()"
   ]
  },
  {
   "cell_type": "code",
   "execution_count": 32,
   "metadata": {},
   "outputs": [],
   "source": [
    "# locate and divide groups / layers\n",
    "\n",
    "# group start and end string\n",
    "g_start_str = \"<g\\n\"\n",
    "g_end_str = \"</g>\\n\"\n",
    "\n",
    "# locate position for group start and end\n",
    "g_start = np.array([x.start() for x in re.finditer(g_start_str, text)])\n",
    "g_end = np.array([x.start() for x in re.finditer(g_end_str, text)])"
   ]
  },
  {
   "cell_type": "code",
   "execution_count": 33,
   "metadata": {},
   "outputs": [],
   "source": [
    "group_df = pd.DataFrame(columns=[\"start\", \"end\", \"level\", \"text\"])\n",
    "\n",
    "# match each group end point with its own group start poing\n",
    "for i, p in enumerate(g_end):\n",
    "    start_p = len(g_start)-np.argmax((g_start<p)[::-1])-1     # find index of the matching group start point\n",
    "    group_df.loc[i] = [g_start[start_p], p, start_p, \"\"]          # create df entry with start point, end point and level (depth)\n",
    "    g_start = np.delete(g_start, start_p)                     # remove start point from its array, for the next iteration\n",
    "    \n",
    "# longer explanation\n",
    "    # for i in g_end:             # take the fist group end\n",
    "    # a = g_start<i               # check if each start point is before the end\n",
    "    # b = a[::-1]                 # reverse array with list slicing\n",
    "    # c = np.argmax(b)            # find the first occurrence of TRUE (first start point lower than end point)\n",
    "    # d = len(g_start)-c          # subtract array length to obtain the position in the original array"
   ]
  },
  {
   "cell_type": "code",
   "execution_count": 42,
   "metadata": {},
   "outputs": [
    {
     "data": {
      "text/html": [
       "<div>\n",
       "<style scoped>\n",
       "    .dataframe tbody tr th:only-of-type {\n",
       "        vertical-align: middle;\n",
       "    }\n",
       "\n",
       "    .dataframe tbody tr th {\n",
       "        vertical-align: top;\n",
       "    }\n",
       "\n",
       "    .dataframe thead th {\n",
       "        text-align: right;\n",
       "    }\n",
       "</style>\n",
       "<table border=\"1\" class=\"dataframe\">\n",
       "  <thead>\n",
       "    <tr style=\"text-align: right;\">\n",
       "      <th></th>\n",
       "      <th>start</th>\n",
       "      <th>end</th>\n",
       "      <th>level</th>\n",
       "      <th>text</th>\n",
       "    </tr>\n",
       "  </thead>\n",
       "  <tbody>\n",
       "    <tr>\n",
       "      <th>0</th>\n",
       "      <td>1203</td>\n",
       "      <td>2097</td>\n",
       "      <td>1</td>\n",
       "      <td>&lt;g\\n       id=\"g6\"\\n       inkscape:label=\"lin...</td>\n",
       "    </tr>\n",
       "    <tr>\n",
       "      <th>1</th>\n",
       "      <td>1116</td>\n",
       "      <td>2104</td>\n",
       "      <td>0</td>\n",
       "      <td>&lt;g\\n     inkscape:groupmode=\"layer\"\\n     id=\"...</td>\n",
       "    </tr>\n",
       "    <tr>\n",
       "      <th>2</th>\n",
       "      <td>2198</td>\n",
       "      <td>3347</td>\n",
       "      <td>1</td>\n",
       "      <td>&lt;g\\n       id=\"g1\"\\n       inkscape:label=\"cir...</td>\n",
       "    </tr>\n",
       "    <tr>\n",
       "      <th>3</th>\n",
       "      <td>3356</td>\n",
       "      <td>4162</td>\n",
       "      <td>1</td>\n",
       "      <td>&lt;g\\n       id=\"g3\"\\n       inkscape:label=\"rec...</td>\n",
       "    </tr>\n",
       "    <tr>\n",
       "      <th>4</th>\n",
       "      <td>2111</td>\n",
       "      <td>4169</td>\n",
       "      <td>0</td>\n",
       "      <td>&lt;g\\n     inkscape:label=\"Layer 1\"\\n     inksca...</td>\n",
       "    </tr>\n",
       "  </tbody>\n",
       "</table>\n",
       "</div>"
      ],
      "text/plain": [
       "   start   end  level                                               text\n",
       "0   1203  2097      1  <g\\n       id=\"g6\"\\n       inkscape:label=\"lin...\n",
       "1   1116  2104      0  <g\\n     inkscape:groupmode=\"layer\"\\n     id=\"...\n",
       "2   2198  3347      1  <g\\n       id=\"g1\"\\n       inkscape:label=\"cir...\n",
       "3   3356  4162      1  <g\\n       id=\"g3\"\\n       inkscape:label=\"rec...\n",
       "4   2111  4169      0  <g\\n     inkscape:label=\"Layer 1\"\\n     inksca..."
      ]
     },
     "execution_count": 42,
     "metadata": {},
     "output_type": "execute_result"
    }
   ],
   "source": [
    "group_df"
   ]
  },
  {
   "cell_type": "code",
   "execution_count": 20,
   "metadata": {},
   "outputs": [
    {
     "data": {
      "text/plain": [
       "'<?xml version=\"1.0\" encoding=\"UTF-8\" standalone=\"no\"?>\\n<!-- Created with Inkscape (http://www.inkscape.org/) -->\\n\\n<svg\\n   width=\"210mm\"\\n   height=\"297mm\"\\n   viewBox=\"0 0 210 297\"\\n   version=\"1.1\"\\n   id=\"svg1\"\\n   inkscape:version=\"1.3.2 (091e20e, 2023-11-25, custom)\"\\n   sodipodi:docname=\"test.svg\"\\n   xmlns:inkscape=\"http://www.inkscape.org/namespaces/inkscape\"\\n   xmlns:sodipodi=\"http://sodipodi.sourceforge.net/DTD/sodipodi-0.dtd\"\\n   xmlns=\"http://www.w3.org/2000/svg\"\\n   xmlns:svg=\"http://www.w3.org/2000/svg\">\\n  <sodipodi:namedview\\n     id=\"namedview1\"\\n     pagecolor=\"#505050\"\\n     bordercolor=\"#eeeeee\"\\n     borderopacity=\"1\"\\n     inkscape:showpageshadow=\"0\"\\n     inkscape:pageopacity=\"0\"\\n     inkscape:pagecheckerboard=\"0\"\\n     inkscape:deskcolor=\"#505050\"\\n     inkscape:document-units=\"mm\"\\n     inkscape:zoom=\"1.0440797\"\\n     inkscape:cx=\"396.52145\"\\n     inkscape:cy=\"562.21762\"\\n     inkscape:window-width=\"3440\"\\n     inkscape:window-height=\"1361\"\\n     inkscape:window-x=\"-9\"\\n     inkscape:window-y=\"-9\"\\n     inkscape:window-maximized=\"1\"\\n     inkscape:current-layer=\"layer2\" />\\n  <defs\\n     id=\"defs1\" />\\n  <g\\n     inkscape:groupmode=\"layer\"\\n     id=\"layer2\"\\n     inkscape:label=\"Layer 2\">\\n    '"
      ]
     },
     "execution_count": 20,
     "metadata": {},
     "output_type": "execute_result"
    }
   ],
   "source": [
    "text[:1203]"
   ]
  },
  {
   "cell_type": "code",
   "execution_count": 41,
   "metadata": {},
   "outputs": [],
   "source": [
    "for i in group_df.index:\n",
    "    group_df.loc[i,\"text\"] = text[group_df.loc[i, \"start\"]:group_df.loc[i, \"end\"]]"
   ]
  },
  {
   "cell_type": "code",
   "execution_count": null,
   "metadata": {},
   "outputs": [],
   "source": []
  }
 ],
 "metadata": {
  "kernelspec": {
   "display_name": ".venv",
   "language": "python",
   "name": "python3"
  },
  "language_info": {
   "codemirror_mode": {
    "name": "ipython",
    "version": 3
   },
   "file_extension": ".py",
   "mimetype": "text/x-python",
   "name": "python",
   "nbconvert_exporter": "python",
   "pygments_lexer": "ipython3",
   "version": "3.12.7"
  }
 },
 "nbformat": 4,
 "nbformat_minor": 2
}
